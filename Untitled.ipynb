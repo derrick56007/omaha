{
 "cells": [
  {
   "cell_type": "code",
   "execution_count": 3,
   "id": "1ed4a551-bf52-4e73-a008-56d8473a95d9",
   "metadata": {},
   "outputs": [
    {
     "name": "stdout",
     "output_type": "stream",
     "text": [
      "Collecting phevaluator\n",
      "  Using cached phevaluator-0.5.1-py3-none-any.whl (107 kB)\n",
      "Discarding \u001b[4;34mhttps://files.pythonhosted.org/packages/8b/05/5c80dd04d390c288143a12d3a56d6415002726e6f55f3470e5401aea9987/phevaluator-0.5.1-py3-none-any.whl (from https://pypi.org/simple/phevaluator/) (requires-python:<4,>=3.6)\u001b[0m: \u001b[33mRequested phevaluator from https://files.pythonhosted.org/packages/8b/05/5c80dd04d390c288143a12d3a56d6415002726e6f55f3470e5401aea9987/phevaluator-0.5.1-py3-none-any.whl has inconsistent version: filename has '0.5.1', but metadata has '0.5.0'\u001b[0m\n",
      "  Using cached phevaluator-0.5.1-py3-none-any.whl\n",
      "Requirement already satisfied: numpy in /opt/conda/lib/python3.10/site-packages (from phevaluator) (1.23.3)\n",
      "Installing collected packages: phevaluator\n",
      "Successfully installed phevaluator-0.5.1\n",
      "Note: you may need to restart the kernel to use updated packages.\n"
     ]
    }
   ],
   "source": [
    "pip install phevaluator"
   ]
  },
  {
   "cell_type": "code",
   "execution_count": 1,
   "id": "47afdebf-26ac-4b61-8396-4b447923aaf7",
   "metadata": {},
   "outputs": [],
   "source": [
    "\n"
   ]
  },
  {
   "cell_type": "code",
   "execution_count": 37,
   "id": "3fabbc17-52c8-43d5-b1f8-c2ed9d71944a",
   "metadata": {},
   "outputs": [],
   "source": []
  },
  {
   "cell_type": "code",
   "execution_count": 8,
   "id": "ab9f5d91-d004-466f-a3fc-cde5cc6fe508",
   "metadata": {},
   "outputs": [],
   "source": [
    "import numpy as np\n",
    "from tqdm import tqdm\n",
    "import itertools\n",
    "from joblib import parallel_backend, delayed, Parallel\n",
    "import multiprocessing\n",
    "from phevaluator import evaluate_cards, evaluate_omaha_cards\n",
    "\n",
    "n_jobs = multiprocessing.cpu_count() // 2\n",
    "\n",
    "suits = ['d','s','c','h']\n",
    "ranks = ['A','2','3','4','5','6','7','8','9','T','J','Q','K']\n",
    "cards = []\n",
    "for r in ranks:\n",
    "    for s in suits:\n",
    "        cards.append(r+s)\n",
    "\n",
    "def flop(hand, table, players, hand_size):\n",
    "    hand = hand[:]\n",
    "    table = table[:]\n",
    "\n",
    "    full = table + hand\n",
    "    deck = list(set(cards[:]) - set(full))\n",
    "    np.random.shuffle(deck)\n",
    "        \n",
    "    hands = [[deck.pop() for _ in range(hand_size)] for _ in range(players)]\n",
    "    \n",
    "    #flop, turn, river\n",
    "    while len(table) < 5:\n",
    "        card = deck.pop()\n",
    "        table.append(card)\n",
    "        full.append(card)\n",
    "    # my_hand_rank = evaluate_cards(full[0],full[1],full[2],full[3],full[4],full[5],full[6])\n",
    "    if hand_size > 2:\n",
    "        my_hand_rank = evaluate_omaha_cards(*full)\n",
    "    else:\n",
    "        my_hand_rank = evaluate_cards(*full)\n",
    "    \n",
    "    # print(table, hand, players, hands)\n",
    "\n",
    "    for check_hand in hands:\n",
    "        all_cards = table + check_hand\n",
    "        \n",
    "        if hand_size > 2:\n",
    "            opponent = evaluate_omaha_cards(*all_cards)\n",
    "        else:\n",
    "            opponent = evaluate_cards(*all_cards)\n",
    "        \n",
    "        # from the definition of the library we use for hand evaluation, larger evaluations correspond to less strong hands\n",
    "        #so, the game is won by the player with the smallest hand evaluation\n",
    "        if opponent < my_hand_rank:\n",
    "            return 1 #'LOSE'\n",
    "        if opponent == my_hand_rank:\n",
    "            return 2 #'SPLIT'\n",
    "        return 0 #'WIN'\n",
    "    \n",
    "def preflop(hand, **kwargs):\n",
    "    # deck = random.sample(cards,len(cards)) #shuffle the deck\n",
    "    # deck = list(filter(lambda x: x not in hand, deck))    \n",
    "    table = []\n",
    "    return flop(hand, table, **kwargs)\n",
    "    \n",
    "def monte_carlo(f, samples=10_000, **kwargs):\n",
    "    dist = [0,0,0]\n",
    "\n",
    "    for i in range(samples):\n",
    "        outcome = f(**kwargs)\n",
    "        dist[outcome] += 1\n",
    "    return kwargs['hand'], list(map(lambda x: x/samples, dist))    \n",
    "\n",
    "def reg():\n",
    "    with Parallel(n_jobs=n_jobs) as parallel:\n",
    "        return parallel(delayed(monte_carlo)(preflop, hand=list(p), players=4, hand_size=2) for p in tqdm(list(itertools.combinations(cards, 2))))\n",
    "\n",
    "def omaha():\n",
    "    with Parallel(n_jobs=n_jobs) as parallel:\n",
    "        return parallel(delayed(monte_carlo)(preflop, hand=list(p), players=4, hand_size=4) for p in tqdm(list(itertools.combinations(cards, 4))))\n"
   ]
  },
  {
   "cell_type": "code",
   "execution_count": 9,
   "id": "18ee8896-5f5e-46ca-82c1-96c7756ce243",
   "metadata": {},
   "outputs": [
    {
     "name": "stderr",
     "output_type": "stream",
     "text": [
      "100%|██████████| 1326/1326 [00:50<00:00, 26.04it/s]\n"
     ]
    }
   ],
   "source": [
    "r = reg()"
   ]
  },
  {
   "cell_type": "code",
   "execution_count": null,
   "id": "d90c3cab-cab2-4310-b688-e89157244203",
   "metadata": {},
   "outputs": [
    {
     "name": "stderr",
     "output_type": "stream",
     "text": [
      "  3%|▎         | 7038/270725 [06:32<4:08:53, 17.66it/s]"
     ]
    }
   ],
   "source": [
    "o = omaha()"
   ]
  },
  {
   "cell_type": "code",
   "execution_count": 27,
   "id": "4d344c76-ecaa-4e5a-8196-e6b2a9ea3d9f",
   "metadata": {},
   "outputs": [
    {
     "name": "stderr",
     "output_type": "stream",
     "text": [
      "100%|██████████| 10000/10000 [00:00<00:00, 16612.52it/s]"
     ]
    },
    {
     "name": "stdout",
     "output_type": "stream",
     "text": [
      "[0.9758, 0.0242, 0.0]\n"
     ]
    },
    {
     "name": "stderr",
     "output_type": "stream",
     "text": [
      "\n"
     ]
    }
   ],
   "source": [
    "print(monte_carlo(flop, hand=['Ah','Ad'], table=['Ac','2d','9s'], players=9, hand_size=2))"
   ]
  },
  {
   "cell_type": "code",
   "execution_count": 28,
   "id": "bdf26eda-4338-495b-8abf-c3aa1218174b",
   "metadata": {},
   "outputs": [
    {
     "name": "stderr",
     "output_type": "stream",
     "text": [
      "100%|██████████| 10000/10000 [00:00<00:00, 21760.60it/s]"
     ]
    },
    {
     "name": "stdout",
     "output_type": "stream",
     "text": [
      "[0.8205, 0.1744, 0.0051]\n"
     ]
    },
    {
     "name": "stderr",
     "output_type": "stream",
     "text": [
      "\n"
     ]
    }
   ],
   "source": [
    "print(monte_carlo(preflop, hand=['Kh','Kd'], players=4, hand_size=2))"
   ]
  },
  {
   "cell_type": "code",
   "execution_count": 29,
   "id": "ff1ce7a6-e944-47d1-8864-b815e97c8412",
   "metadata": {},
   "outputs": [
    {
     "name": "stderr",
     "output_type": "stream",
     "text": [
      "100%|██████████| 10000/10000 [00:00<00:00, 20643.86it/s]"
     ]
    },
    {
     "name": "stdout",
     "output_type": "stream",
     "text": [
      "[0.654, 0.3281, 0.0179]\n"
     ]
    },
    {
     "name": "stderr",
     "output_type": "stream",
     "text": [
      "\n"
     ]
    }
   ],
   "source": [
    "print(monte_carlo(preflop, hand=['Ah','Kh'], players=4, hand_size=2))"
   ]
  },
  {
   "cell_type": "code",
   "execution_count": 71,
   "id": "ac2bcdcc-75e2-4750-8da1-c23a0b6e5c18",
   "metadata": {},
   "outputs": [
    {
     "name": "stdout",
     "output_type": "stream",
     "text": [
      "[0.3419, 0.6502, 0.0079]\n"
     ]
    }
   ],
   "source": [
    "print(monte_carlo(preflop, hand=['2h','3s', '4c', '7d'], players=9, hand_size=4))"
   ]
  }
 ],
 "metadata": {
  "kernelspec": {
   "display_name": "Python 3 (ipykernel)",
   "language": "python",
   "name": "python3"
  },
  "language_info": {
   "codemirror_mode": {
    "name": "ipython",
    "version": 3
   },
   "file_extension": ".py",
   "mimetype": "text/x-python",
   "name": "python",
   "nbconvert_exporter": "python",
   "pygments_lexer": "ipython3",
   "version": "3.10.6"
  }
 },
 "nbformat": 4,
 "nbformat_minor": 5
}
